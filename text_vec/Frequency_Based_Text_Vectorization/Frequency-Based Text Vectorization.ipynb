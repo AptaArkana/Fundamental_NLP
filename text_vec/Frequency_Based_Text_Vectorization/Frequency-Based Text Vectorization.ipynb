{
 "cells": [
  {
   "cell_type": "markdown",
   "metadata": {},
   "source": [
    "## Count Vector"
   ]
  },
  {
   "cell_type": "code",
   "execution_count": 1,
   "metadata": {},
   "outputs": [
    {
     "name": "stdout",
     "output_type": "stream",
     "text": [
      "Kata unik (fitur): ['bahagia' 'belajar' 'membuat' 'saya' 'suka']\n",
      "Matriks Count Vector:\n",
      " [[0 1 0 1 1]\n",
      " [1 1 1 1 0]]\n"
     ]
    }
   ],
   "source": [
    "from sklearn.feature_extraction.text import CountVectorizer\n",
    "\n",
    "# Data contoh\n",
    "docs = [\"saya suka belajar\", \"belajar membuat saya bahagia\"]\n",
    "\n",
    "# Inisialisasi CountVectorizer\n",
    "vectorizer = CountVectorizer()\n",
    "\n",
    "# Konversi teks menjadi Count Vector\n",
    "X = vectorizer.fit_transform(docs)\n",
    "\n",
    "# Tampilkan fitur dan matriks hasilnya\n",
    "print(\"Kata unik (fitur):\", vectorizer.get_feature_names_out())\n",
    "print(\"Matriks Count Vector:\\n\", X.toarray())"
   ]
  },
  {
   "cell_type": "markdown",
   "metadata": {},
   "source": [
    "## TF-IDF"
   ]
  },
  {
   "cell_type": "code",
   "execution_count": 11,
   "metadata": {},
   "outputs": [
    {
     "name": "stdout",
     "output_type": "stream",
     "text": [
      "Kata unik (fitur): ['bahagia' 'belajar' 'membuat' 'saya' 'suka']\n",
      "Matriks TF-IDF:\n",
      " [[0.         0.50154891 0.         0.50154891 0.70490949]\n",
      " [0.57615236 0.40993715 0.57615236 0.40993715 0.        ]]\n"
     ]
    }
   ],
   "source": [
    "from sklearn.feature_extraction.text import TfidfVectorizer\n",
    "\n",
    "# Data contoh\n",
    "docs = [\"saya suka belajar\", \"belajar membuat saya bahagia\"]\n",
    "\n",
    "# Inisialisasi TfidfVectorizer\n",
    "vectorizer = TfidfVectorizer()\n",
    "\n",
    "# Konversi teks menjadi TF-IDF\n",
    "X = vectorizer.fit_transform(docs)\n",
    "\n",
    "# Tampilkan fitur dan matriks TF-IDF\n",
    "print(\"Kata unik (fitur):\", vectorizer.get_feature_names_out())\n",
    "print(\"Matriks TF-IDF:\\n\", X.toarray())\n"
   ]
  },
  {
   "cell_type": "markdown",
   "metadata": {},
   "source": [
    "## TF-IDF(n-gram : bigram)"
   ]
  },
  {
   "cell_type": "code",
   "execution_count": 10,
   "metadata": {},
   "outputs": [
    {
     "name": "stdout",
     "output_type": "stream",
     "text": [
      "Bigram unik (fitur): ['belajar membuat' 'membuat saya' 'saya bahagia' 'saya suka'\n",
      " 'suka belajar']\n",
      "Matriks TF-IDF:\n",
      " [[0.         0.         0.         0.70710678 0.70710678]\n",
      " [0.57735027 0.57735027 0.57735027 0.         0.        ]]\n"
     ]
    }
   ],
   "source": [
    "from sklearn.feature_extraction.text import TfidfVectorizer\n",
    "\n",
    "# Data contoh\n",
    "docs = [\"saya suka belajar\", \"belajar membuat saya bahagia\"]\n",
    "\n",
    "# Inisialisasi TfidfVectorizer dengan ngram_range untuk bigram\n",
    "vectorizer = TfidfVectorizer(ngram_range=(2, 2))\n",
    "\n",
    "# Konversi teks menjadi TF-IDF dengan bigram\n",
    "X = vectorizer.fit_transform(docs)\n",
    "\n",
    "# Tampilkan bigram (fitur) dan matriks TF-IDF\n",
    "print(\"Bigram unik (fitur):\", vectorizer.get_feature_names_out())\n",
    "print(\"Matriks TF-IDF:\\n\", X.toarray())"
   ]
  },
  {
   "cell_type": "code",
   "execution_count": null,
   "metadata": {},
   "outputs": [],
   "source": []
  }
 ],
 "metadata": {
  "kernelspec": {
   "display_name": ".venv",
   "language": "python",
   "name": "python3"
  },
  "language_info": {
   "codemirror_mode": {
    "name": "ipython",
    "version": 3
   },
   "file_extension": ".py",
   "mimetype": "text/x-python",
   "name": "python",
   "nbconvert_exporter": "python",
   "pygments_lexer": "ipython3",
   "version": "3.11.6"
  }
 },
 "nbformat": 4,
 "nbformat_minor": 2
}
