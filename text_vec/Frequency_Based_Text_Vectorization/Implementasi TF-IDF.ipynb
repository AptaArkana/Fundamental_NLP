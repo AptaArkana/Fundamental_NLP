{
 "cells": [
  {
   "cell_type": "code",
   "execution_count": 1,
   "metadata": {},
   "outputs": [],
   "source": [
    "import pandas as pd"
   ]
  },
  {
   "cell_type": "code",
   "execution_count": 2,
   "metadata": {},
   "outputs": [],
   "source": [
    "dataset = pd.read_csv('dataset\\Twitter_Emotion_Dataset.csv')"
   ]
  },
  {
   "cell_type": "code",
   "execution_count": 3,
   "metadata": {},
   "outputs": [
    {
     "name": "stdout",
     "output_type": "stream",
     "text": [
      "<class 'pandas.core.frame.DataFrame'>\n",
      "RangeIndex: 4401 entries, 0 to 4400\n",
      "Data columns (total 2 columns):\n",
      " #   Column  Non-Null Count  Dtype \n",
      "---  ------  --------------  ----- \n",
      " 0   label   4401 non-null   object\n",
      " 1   tweet   4401 non-null   object\n",
      "dtypes: object(2)\n",
      "memory usage: 68.9+ KB\n"
     ]
    }
   ],
   "source": [
    "dataset.info()"
   ]
  },
  {
   "cell_type": "code",
   "execution_count": 4,
   "metadata": {},
   "outputs": [],
   "source": [
    "texts = dataset['tweet'].tolist()"
   ]
  },
  {
   "cell_type": "code",
   "execution_count": 5,
   "metadata": {},
   "outputs": [
    {
     "name": "stderr",
     "output_type": "stream",
     "text": [
      "d:\\Funda NLP\\.venv\\Lib\\site-packages\\tqdm\\auto.py:21: TqdmWarning: IProgress not found. Please update jupyter and ipywidgets. See https://ipywidgets.readthedocs.io/en/stable/user_install.html\n",
      "  from .autonotebook import tqdm as notebook_tqdm\n"
     ]
    }
   ],
   "source": [
    "from text_preprocessing.asycro_text_processor import TextProcessor  \n",
    "\n",
    "BATCH_SIZE = 1000\n",
    "\n",
    "async def process_batch(batch):\n",
    "    processor = TextProcessor()\n",
    "    return await processor.process_texts(batch)\n",
    "\n",
    "async def process_large_dataset(texts):\n",
    "    results = []\n",
    "    for i in range(0, len(texts), BATCH_SIZE):\n",
    "        batch = texts[i:i + BATCH_SIZE]\n",
    "        batch_results = await process_batch(batch)\n",
    "        results.extend(batch_results)\n",
    "    return results"
   ]
  },
  {
   "cell_type": "code",
   "execution_count": 6,
   "metadata": {},
   "outputs": [],
   "source": [
    "#cleaned_texts = asyncio.run(process_large_dataset(texts))\n",
    "cleaned_texts = await process_large_dataset(texts)\n",
    "\n",
    "# Simpan hasil ke dataframe\n",
    "dataset['cleaned_text'] = cleaned_texts"
   ]
  },
  {
   "cell_type": "code",
   "execution_count": 7,
   "metadata": {},
   "outputs": [
    {
     "data": {
      "text/plain": [
       "'cewek lho kayak rasain sibuk jaga rasain sakit haid panik pulang malam orang asing wajar korban takut curhat bela hujat'"
      ]
     },
     "execution_count": 7,
     "metadata": {},
     "output_type": "execute_result"
    }
   ],
   "source": [
    "dataset['cleaned_text'][1]"
   ]
  },
  {
   "cell_type": "code",
   "execution_count": 9,
   "metadata": {},
   "outputs": [
    {
     "name": "stdout",
     "output_type": "stream",
     "text": [
      "TF-IDF model berhasil disimpan ke dalam file tfidf_model.pkl\n"
     ]
    }
   ],
   "source": [
    "from sklearn.feature_extraction.text import TfidfVectorizer\n",
    "import pickle\n",
    "\n",
    "# Inisialisasi TfidfVectorizer\n",
    "tfidf_vectorizer = TfidfVectorizer()\n",
    "\n",
    "# Fit dan transform data teks menjadi matriks TF-IDF\n",
    "tfidf_matrix = tfidf_vectorizer.fit_transform(dataset['cleaned_text'])\n",
    "\n",
    "# Simpan objek TfidfVectorizer dan matriks TF-IDF ke dalam file .pickle\n",
    "with open(\"text_vec\\Frequency-Based Text Vectorization\\\\tfidf_model.pkl\", \"wb\") as file:\n",
    "    pickle.dump((tfidf_vectorizer, tfidf_matrix), file)\n",
    "\n",
    "print(\"TF-IDF model berhasil disimpan ke dalam file tfidf_model.pkl\")\n"
   ]
  },
  {
   "cell_type": "code",
   "execution_count": null,
   "metadata": {},
   "outputs": [],
   "source": []
  }
 ],
 "metadata": {
  "kernelspec": {
   "display_name": ".venv",
   "language": "python",
   "name": "python3"
  },
  "language_info": {
   "codemirror_mode": {
    "name": "ipython",
    "version": 3
   },
   "file_extension": ".py",
   "mimetype": "text/x-python",
   "name": "python",
   "nbconvert_exporter": "python",
   "pygments_lexer": "ipython3",
   "version": "3.11.6"
  }
 },
 "nbformat": 4,
 "nbformat_minor": 2
}
