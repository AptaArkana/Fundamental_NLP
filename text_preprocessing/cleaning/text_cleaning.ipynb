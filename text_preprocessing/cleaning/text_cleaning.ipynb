{
 "cells": [
  {
   "cell_type": "code",
   "execution_count": 1,
   "metadata": {},
   "outputs": [],
   "source": [
    "import rootutils\n",
    "import os\n",
    "\n",
    "'''\n",
    "Mengatur ROOT directory untuk project dengan menggunakan library rootutils\n",
    "search_from=os.getcwd() menentukan bahwa pencarian dimulai dari direktori kerja saat ini\n",
    "indicator=[\".project-root\"] berarti pencarian akan berhenti saat menemukan file atau direktori bernama \".project-root\"\n",
    "pythonpath=True akan menambahkan ROOT ke PYTHONPATH untuk memastikan bahwa modul di ROOT dapat diimpor\n",
    "dotenv=True akan memuat variabel lingkungan dari file .env di ROOT (jika ada)\n",
    "'''\n",
    "ROOT = rootutils.setup_root(\n",
    "    search_from=os.getcwd(),\n",
    "    indicator=[\".project-root\"],\n",
    "    pythonpath=True,\n",
    "    dotenv=True,\n",
    ")"
   ]
  },
  {
   "cell_type": "code",
   "execution_count": 14,
   "metadata": {},
   "outputs": [],
   "source": [
    "teks = 'Soal jln Jatibaru,polisi tdk bs GERTAK gubernur .Emangny polisi tdk ikut pmbhasan? Jgn berpolitik. Pengaturan wilayah,hak gubernur. Persoalan Tn Abang soal turun temurun.Pelik.Perlu kesabaran. [USERNAME] [USERNAME] [URL]'"
   ]
  },
  {
   "cell_type": "markdown",
   "metadata": {},
   "source": [
    "# Remove Puncation and Special Character"
   ]
  },
  {
   "cell_type": "code",
   "execution_count": 20,
   "metadata": {},
   "outputs": [
    {
     "data": {
      "text/plain": [
       "'Soal jln Jatibaru polisi tdk bs GEAK gubernur Emangny polisi tdk ikut pmbhasan Jgn berpolitik Pengaturan wilayah hak gubernur Persoalan Tn Abang soal turun temurun Pelik Perlu kesabaran NAME NAME URL '"
      ]
     },
     "execution_count": 20,
     "metadata": {},
     "output_type": "execute_result"
    }
   ],
   "source": [
    "import re  # Mengimpor modul 're' untuk bekerja dengan regex (regular expressions)\n",
    "\n",
    "def regex_methods(text):\n",
    "    # Definisikan regex untuk URL yang mencakup berbagai format URL\n",
    "    url_regex = r\"((www\\.[^\\s]+)|(https?://[^\\s]+)|(http?://[^\\s]+)||(http\\S+))\"\n",
    "    \n",
    "    # Hapus setiap URL dari teks\n",
    "    text = re.sub(url_regex, \"\", text)  \n",
    "    \n",
    "    # Hapus tag HTML dari teks\n",
    "    text = re.sub(r\"<[^>]*>\", \"\", text)  \n",
    "    \n",
    "    # Hapus username Twitter yang diawali dengan '@'\n",
    "    text = re.sub(r\"@[A-Za-z0-9]+\", \"\", text)  \n",
    "    \n",
    "    # Hapus setiap baris baru '\\n'\n",
    "    text = re.sub(r\"\\n\", \" \", text)  \n",
    "    \n",
    "    # Hapus mention (username atau tanda @)\n",
    "    text = re.sub(r\"@[\\w\\-]+\", \"\", text)  \n",
    "    \n",
    "    # Hapus simbol retweet 'RT' dari teks\n",
    "    text = re.sub(r\"RT\", \"\", text)  \n",
    "    \n",
    "    # Hapus setiap kata 'USER' yang mungkin mewakili nama pengguna anonim\n",
    "    text = re.sub(r\"USER\", \"\", text)  \n",
    "    \n",
    "    # Hapus kata 'URL' yang mungkin menjadi placeholder untuk URL\n",
    "    text = re.sub(r\" URL\", \" \", text)  \n",
    "    text = re.sub(r\" url\", \" \", text)  \n",
    "    \n",
    "    # Hapus tanda plus '+' dari teks\n",
    "    text = re.sub(r\"\\+\", \" \", text)  \n",
    "    \n",
    "    # Hapus karakter spasi berulang dan menggantinya dengan satu spasi\n",
    "    text = re.sub(r\"\\s+\", \" \", text)  \n",
    "    \n",
    "    # Hapus semua tanda baca dengan menggantinya menjadi spasi\n",
    "    text = re.sub(r\"[^0-9a-zA-Z]\", \" \", text)  \n",
    "    \n",
    "    # Hapus semua angka dari teks dan hanya menyisakan huruf\n",
    "    text = re.sub(r\"[^a-zA-Z]\", \" \", text)  \n",
    "    \n",
    "    # Hapus spasi ekstra\n",
    "    text = re.sub(r\" +\", \" \", text)  \n",
    "    \n",
    "    return text  # Kembalikan teks yang sudah dibersihkan\n",
    "\n",
    "# Contoh penggunaan fungsi regex_methods untuk membersihkan teks\n",
    "text_cleaning = regex_methods(teks)  # 'teks' adalah variabel teks input yang perlu dibersihkan\n",
    "text_cleaning  # Menampilkan teks yang telah dibersihkan"
   ]
  },
  {
   "cell_type": "markdown",
   "metadata": {},
   "source": [
    "# Casefolding"
   ]
  },
  {
   "cell_type": "code",
   "execution_count": 23,
   "metadata": {},
   "outputs": [
    {
     "data": {
      "text/plain": [
       "'soal jln jatibaru polisi tdk bs geak gubernur emangny polisi tdk ikut pmbhasan jgn berpolitik pengaturan wilayah hak gubernur persoalan tn abang soal turun temurun pelik perlu kesabaran name name url '"
      ]
     },
     "execution_count": 23,
     "metadata": {},
     "output_type": "execute_result"
    }
   ],
   "source": [
    "\"\"\"\n",
    "Mengubah teks menjadi huruf kecil dengan text.lower() adalah langkah penting dalam NLP untuk normalisasi teks, \n",
    "memastikan konsistensi, dan mengurangi dimensi fitur. Dalam contoh ini menggunakan .lower(), selain .lower() ada .upper() dan .title()\n",
    "Dengan mengonversi semua teks ke huruf kecil, kita menyamakan variasi kapitalisasi, mengurangi noise data, dan memastikan pencocokan kata yang tepat. \n",
    "Ini membantu dalam mengurangi kompleksitas model dan meningkatkan efisiensi serta akurasi dalam analisis teks dan pemodelan.\n",
    "\"\"\"\n",
    "\n",
    "text_case_folding = text_cleaning.lower()\n",
    "text_case_folding"
   ]
  },
  {
   "cell_type": "markdown",
   "metadata": {},
   "source": [
    "# Stopword"
   ]
  },
  {
   "cell_type": "markdown",
   "metadata": {},
   "source": [
    "### NLTK"
   ]
  },
  {
   "cell_type": "code",
   "execution_count": 30,
   "metadata": {},
   "outputs": [
    {
     "name": "stdout",
     "output_type": "stream",
     "text": [
      "['secara', 'bertutur', 'sama', 'para', 'punya', 'dirinya', 'kalaulah', 'berdatangan', 'sesuatunya', 'dekat']\n"
     ]
    }
   ],
   "source": [
    "import nltk\n",
    "from nltk.corpus import stopwords\n",
    "\n",
    "stop_words = set(stopwords.words('indonesian'))\n",
    "print(list(stop_words)[:10])"
   ]
  },
  {
   "cell_type": "code",
   "execution_count": 38,
   "metadata": {},
   "outputs": [
    {
     "name": "stdout",
     "output_type": "stream",
     "text": [
      "Teks sebelum menghilangkan stopword :  soal jln jatibaru polisi tdk bs geak gubernur emangny polisi tdk ikut pmbhasan jgn berpolitik pengaturan wilayah hak gubernur persoalan tn abang soal turun temurun pelik perlu kesabaran name name url \n",
      "Teks sesudah menghilangkan stopword :  soal jln jatibaru polisi tdk bs geak gubernur emangny polisi tdk pmbhasan jgn berpolitik pengaturan wilayah hak gubernur tn abang soal turun temurun pelik kesabaran name name url\n"
     ]
    }
   ],
   "source": [
    "# Menghapus stop words dari teks\n",
    "text_stopword = \" \".join(word for word in text_case_folding.split() if word not in stop_words)\n",
    "\n",
    "print(\"Teks sebelum menghilangkan stopword : \",text_case_folding)\n",
    "print(\"Teks sesudah menghilangkan stopword : \", text_stopword)"
   ]
  },
  {
   "cell_type": "markdown",
   "metadata": {},
   "source": [
    "### NLP_ID (Kumparan)"
   ]
  },
  {
   "cell_type": "code",
   "execution_count": 45,
   "metadata": {},
   "outputs": [
    {
     "data": {
      "text/plain": [
       "['ada',\n",
       " 'adalagi',\n",
       " 'adalah',\n",
       " 'adanya',\n",
       " 'adapun',\n",
       " 'agak',\n",
       " 'agak-agak',\n",
       " 'agaknya',\n",
       " 'agar',\n",
       " 'aja']"
      ]
     },
     "execution_count": 45,
     "metadata": {},
     "output_type": "execute_result"
    }
   ],
   "source": [
    "from nlp_id.stopword import StopWord \n",
    "\n",
    "stopword = StopWord() \n",
    "stop_words = stopword.get_stopword()\n",
    "\n",
    "stop_words[0:10]"
   ]
  },
  {
   "cell_type": "code",
   "execution_count": 46,
   "metadata": {},
   "outputs": [
    {
     "name": "stdout",
     "output_type": "stream",
     "text": [
      "Teks sebelum menghilangkan stopword :  soal jln jatibaru polisi tdk bs geak gubernur emangny polisi tdk ikut pmbhasan jgn berpolitik pengaturan wilayah hak gubernur persoalan tn abang soal turun temurun pelik perlu kesabaran name name url \n",
      "Teks sesudah menghilangkan stopword :  jln jatibaru polisi tdk bs geak gubernur emangny polisi tdk pmbhasan jgn berpolitik pengaturan wilayah hak gubernur tn abang turun temurun pelik kesabaran name name url\n"
     ]
    }
   ],
   "source": [
    "# Menghapus stop words dari teks\n",
    "text_stopword = stopword.remove_stopword(text_case_folding)\n",
    "\n",
    "print(\"Teks sebelum menghilangkan stopword : \",text_case_folding)\n",
    "print(\"Teks sesudah menghilangkan stopword : \", text_stopword)"
   ]
  }
 ],
 "metadata": {
  "kernelspec": {
   "display_name": ".venv",
   "language": "python",
   "name": "python3"
  },
  "language_info": {
   "codemirror_mode": {
    "name": "ipython",
    "version": 3
   },
   "file_extension": ".py",
   "mimetype": "text/x-python",
   "name": "python",
   "nbconvert_exporter": "python",
   "pygments_lexer": "ipython3",
   "version": "3.11.6"
  }
 },
 "nbformat": 4,
 "nbformat_minor": 2
}
