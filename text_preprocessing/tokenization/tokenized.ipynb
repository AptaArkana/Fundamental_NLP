{
  "cells": [
    {
      "cell_type": "markdown",
      "metadata": {
        "id": "hqyAOWaAGCfx"
      },
      "source": [
        "# Tokenization"
      ]
    },
    {
      "cell_type": "code",
      "execution_count": 1,
      "metadata": {
        "id": "DAG0X_1BF0dF"
      },
      "outputs": [],
      "source": [
        "# contoh teks\n",
        "teks = 'jln jatibaru polisi tdk bs geak gubernur emangny polisi tdk pmbhasan jgn berpolitik pengaturan wilayah hak gubernur tn abang turun temurun pelik kesabaran name name url'"
      ]
    },
    {
      "cell_type": "markdown",
      "metadata": {
        "id": "QmWncdc8GIGG"
      },
      "source": [
        "## NLTK"
      ]
    },
    {
      "cell_type": "code",
      "execution_count": 2,
      "metadata": {
        "colab": {
          "base_uri": "https://localhost:8080/"
        },
        "id": "Zh7uP8GSF2qW",
        "outputId": "71d5d996-351e-47db-9570-2e4b4e0fa8e1"
      },
      "outputs": [
        {
          "name": "stderr",
          "output_type": "stream",
          "text": [
            "[nltk_data] Downloading package punkt to /root/nltk_data...\n",
            "[nltk_data]   Package punkt is already up-to-date!\n",
            "[nltk_data] Downloading package stopwords to /root/nltk_data...\n",
            "[nltk_data]   Package stopwords is already up-to-date!\n",
            "[nltk_data] Downloading package wordnet to /root/nltk_data...\n",
            "[nltk_data]   Package wordnet is already up-to-date!\n"
          ]
        },
        {
          "data": {
            "text/plain": [
              "True"
            ]
          },
          "execution_count": 2,
          "metadata": {},
          "output_type": "execute_result"
        }
      ],
      "source": [
        "import nltk\n",
        "\n",
        "nltk.download('punkt')\n",
        "nltk.download('stopwords')\n",
        "nltk.download('wordnet')"
      ]
    },
    {
      "cell_type": "code",
      "execution_count": 3,
      "metadata": {
        "id": "3nywBCzxI08P"
      },
      "outputs": [],
      "source": [
        "from nltk.tokenize import word_tokenize\n",
        "def word_tokenization(text):\n",
        "    # Kode untuk melakukan word tokenization\n",
        "    tokens = word_tokenize(text)\n",
        "    return tokens"
      ]
    },
    {
      "cell_type": "markdown",
      "metadata": {
        "id": "fgqbmSq-GLkJ"
      },
      "source": [
        "### WordTokenizer"
      ]
    },
    {
      "cell_type": "code",
      "execution_count": 3,
      "metadata": {
        "id": "fRISfgEJF7Wx"
      },
      "outputs": [],
      "source": [
        "from nltk.tokenize import word_tokenize\n",
        "def word_tokenization(text):\n",
        "    # Kode untuk melakukan word tokenization\n",
        "    tokens = word_tokenize(text)\n",
        "    return tokens"
      ]
    },
    {
      "cell_type": "code",
      "execution_count": 4,
      "metadata": {
        "colab": {
          "base_uri": "https://localhost:8080/"
        },
        "id": "qaXlVaesF74k",
        "outputId": "7d539deb-c9cc-4aed-edb6-5bee12940295"
      },
      "outputs": [
        {
          "name": "stdout",
          "output_type": "stream",
          "text": [
            "['jln', 'jatibaru', 'polisi', 'tdk', 'bs', 'geak', 'gubernur', 'emangny', 'polisi', 'tdk', 'pmbhasan', 'jgn', 'berpolitik', 'pengaturan', 'wilayah', 'hak', 'gubernur', 'tn', 'abang', 'turun', 'temurun', 'pelik', 'kesabaran', 'name', 'name', 'url']\n"
          ]
        }
      ],
      "source": [
        "word_tokenization = word_tokenization(teks)\n",
        "print(tokenization)"
      ]
    },
    {
      "cell_type": "markdown",
      "metadata": {
        "id": "3SHkal6kGV5W"
      },
      "source": [
        "### Sentence Tokenizer"
      ]
    },
    {
      "cell_type": "code",
      "execution_count": 7,
      "metadata": {
        "id": "KrhD1sl9GwRe"
      },
      "outputs": [],
      "source": [
        "teks = 'Saya senang bermain bola. Adik saya senang bermain basket.'"
      ]
    },
    {
      "cell_type": "code",
      "execution_count": 8,
      "metadata": {
        "id": "IKYWZFWmF9DQ"
      },
      "outputs": [],
      "source": [
        "from nltk.tokenize import sent_tokenize\n",
        "def sentence_tokenization(text):\n",
        "    # Kode untuk melakukan sentence tokenization\n",
        "    sentences = sent_tokenize(text)\n",
        "    return sentences"
      ]
    },
    {
      "cell_type": "code",
      "execution_count": 9,
      "metadata": {
        "colab": {
          "base_uri": "https://localhost:8080/"
        },
        "id": "UfzPrTM3GZXx",
        "outputId": "d17dee84-a853-4fcd-838e-77a35eaf4f5c"
      },
      "outputs": [
        {
          "name": "stdout",
          "output_type": "stream",
          "text": [
            "['Saya senang bermain bola.', 'Adik saya senang bermain basket.']\n"
          ]
        }
      ],
      "source": [
        "sent_tokenization = sentence_tokenization(teks)\n",
        "print(sent_tokenization)"
      ]
    },
    {
      "cell_type": "markdown",
      "metadata": {
        "id": "0DV5RnocHGyU"
      },
      "source": [
        "### Tweet Tokenizer"
      ]
    },
    {
      "cell_type": "code",
      "execution_count": 10,
      "metadata": {
        "id": "yjhp2_WTGoSJ"
      },
      "outputs": [],
      "source": [
        "teks = 'Drama kmarin sore : seharian puasa trus pas lg mandi kaget bcz kedatangan tamu tak diundang pas bgt woi pas lagi adzan maghrib trus jd galau dong seharian itu dianggap sah puasa apa enggak-_-'"
      ]
    },
    {
      "cell_type": "code",
      "execution_count": 16,
      "metadata": {
        "id": "G9dPCEKmHKic"
      },
      "outputs": [],
      "source": [
        "from nltk.tokenize import TweetTokenizer\n",
        "def twet_tokenization(text):\n",
        "    # Kode untuk melakukan sentence tokenization\n",
        "    tweet = TweetTokenizer()\n",
        "    text_x = tweet.tokenize(text)\n",
        "    return text_x"
      ]
    },
    {
      "cell_type": "code",
      "execution_count": 17,
      "metadata": {
        "colab": {
          "base_uri": "https://localhost:8080/"
        },
        "id": "aZxsugjEHWFa",
        "outputId": "1dcd228e-09f5-41e1-f56b-41cc88c01508"
      },
      "outputs": [
        {
          "name": "stdout",
          "output_type": "stream",
          "text": [
            "['Drama', 'kmarin', 'sore', ':', 'seharian', 'puasa', 'trus', 'pas', 'lg', 'mandi', 'kaget', 'bcz', 'kedatangan', 'tamu', 'tak', 'diundang', 'pas', 'bgt', 'woi', 'pas', 'lagi', 'adzan', 'maghrib', 'trus', 'jd', 'galau', 'dong', 'seharian', 'itu', 'dianggap', 'sah', 'puasa', 'apa', 'enggak', '-', '_', '-']\n"
          ]
        }
      ],
      "source": [
        "x_tokenization = twet_tokenization(text=teks)\n",
        "print(x_tokenization)"
      ]
    },
    {
      "cell_type": "markdown",
      "metadata": {
        "id": "s7e3yXHnISeu"
      },
      "source": [
        "### N-Gram"
      ]
    },
    {
      "cell_type": "code",
      "execution_count": 18,
      "metadata": {
        "id": "J90KoSpWHefi"
      },
      "outputs": [],
      "source": [
        "teks = 'Drama kmarin sore : seharian puasa trus pas lg mandi kaget bcz kedatangan tamu tak diundang pas bgt woi pas lagi adzan maghrib trus jd galau dong seharian itu dianggap sah puasa apa enggak-_-'"
      ]
    },
    {
      "cell_type": "code",
      "execution_count": 19,
      "metadata": {
        "id": "9dY8SBHEIWYW"
      },
      "outputs": [],
      "source": [
        "def ngram_tokenization(text, n):\n",
        "    # Kode untuk melakukan n-gram tokenization\n",
        "    tokens = nltk.ngrams(text.split(), n)\n",
        "    return list(tokens)"
      ]
    },
    {
      "cell_type": "code",
      "execution_count": 20,
      "metadata": {
        "colab": {
          "base_uri": "https://localhost:8080/"
        },
        "id": "GFo-QspfIZ0x",
        "outputId": "ff17c9f2-f532-40c4-8556-4a1d9761ef2c"
      },
      "outputs": [
        {
          "name": "stdout",
          "output_type": "stream",
          "text": [
            "[('Drama', 'kmarin', 'sore', ':'), ('kmarin', 'sore', ':', 'seharian'), ('sore', ':', 'seharian', 'puasa'), (':', 'seharian', 'puasa', 'trus'), ('seharian', 'puasa', 'trus', 'pas'), ('puasa', 'trus', 'pas', 'lg'), ('trus', 'pas', 'lg', 'mandi'), ('pas', 'lg', 'mandi', 'kaget'), ('lg', 'mandi', 'kaget', 'bcz'), ('mandi', 'kaget', 'bcz', 'kedatangan'), ('kaget', 'bcz', 'kedatangan', 'tamu'), ('bcz', 'kedatangan', 'tamu', 'tak'), ('kedatangan', 'tamu', 'tak', 'diundang'), ('tamu', 'tak', 'diundang', 'pas'), ('tak', 'diundang', 'pas', 'bgt'), ('diundang', 'pas', 'bgt', 'woi'), ('pas', 'bgt', 'woi', 'pas'), ('bgt', 'woi', 'pas', 'lagi'), ('woi', 'pas', 'lagi', 'adzan'), ('pas', 'lagi', 'adzan', 'maghrib'), ('lagi', 'adzan', 'maghrib', 'trus'), ('adzan', 'maghrib', 'trus', 'jd'), ('maghrib', 'trus', 'jd', 'galau'), ('trus', 'jd', 'galau', 'dong'), ('jd', 'galau', 'dong', 'seharian'), ('galau', 'dong', 'seharian', 'itu'), ('dong', 'seharian', 'itu', 'dianggap'), ('seharian', 'itu', 'dianggap', 'sah'), ('itu', 'dianggap', 'sah', 'puasa'), ('dianggap', 'sah', 'puasa', 'apa'), ('sah', 'puasa', 'apa', 'enggak-_-')]\n"
          ]
        }
      ],
      "source": [
        "ngram_tokenized = ngram_tokenization(teks, 4)\n",
        "print(ngram_tokenized)"
      ]
    },
    {
      "cell_type": "markdown",
      "metadata": {
        "id": "Xmd1SdDfJAog"
      },
      "source": [
        "### Word tokenizer NLP_ID (Kumparan)"
      ]
    },
    {
      "cell_type": "code",
      "execution_count": 5,
      "metadata": {
        "colab": {
          "base_uri": "https://localhost:8080/"
        },
        "id": "_GjjYSOLIpUw",
        "outputId": "c0d29fe1-ef14-4585-bd2c-7d66e6a11245"
      },
      "outputs": [
        {
          "name": "stdout",
          "output_type": "stream",
          "text": [
            "Teks word tokenize :  ['jln', 'jatibaru', 'polisi', 'tdk', 'bs', 'geak', 'gubernur', 'emangny', 'polisi', 'tdk', 'pmbhasan', 'jgn', 'berpolitik', 'pengaturan', 'wilayah', 'hak', 'gubernur', 'tn', 'abang', 'turun', 'temurun', 'pelik', 'kesabaran', 'name', 'name', 'url']\n"
          ]
        }
      ],
      "source": [
        "from nlp_id.tokenizer import Tokenizer\n",
        "tokenizer = Tokenizer()\n",
        "\n",
        "teks_token = tokenizer.tokenize(teks)\n",
        "print(\"Teks word tokenize : \", teks_token)"
      ]
    }
  ],
  "metadata": {
    "colab": {
      "provenance": []
    },
    "kernelspec": {
      "display_name": "Python 3",
      "name": "python3"
    },
    "language_info": {
      "name": "python"
    }
  },
  "nbformat": 4,
  "nbformat_minor": 0
}
